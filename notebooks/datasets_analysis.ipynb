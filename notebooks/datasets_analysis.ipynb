{
 "cells": [
  {
   "cell_type": "code",
   "execution_count": 120,
   "outputs": [],
   "source": [
    "import pandas as pd"
   ],
   "metadata": {
    "collapsed": false,
    "pycharm": {
     "name": "#%%\n"
    }
   }
  },
  {
   "cell_type": "code",
   "execution_count": 121,
   "outputs": [],
   "source": [
    "from sklearn.model_selection import train_test_split\n",
    "from pathlib import Path\n",
    "from sklearn.preprocessing import LabelEncoder"
   ],
   "metadata": {
    "collapsed": false,
    "pycharm": {
     "name": "#%%\n"
    }
   }
  },
  {
   "cell_type": "code",
   "execution_count": 122,
   "outputs": [],
   "source": [
    "from src.data import load_feature_sets"
   ],
   "metadata": {
    "collapsed": false,
    "pycharm": {
     "name": "#%%\n"
    }
   }
  },
  {
   "cell_type": "code",
   "execution_count": null,
   "outputs": [],
   "source": [
    "sp = Path('../src/metadata/subdatasets_metadata')"
   ],
   "metadata": {
    "collapsed": false,
    "pycharm": {
     "name": "#%%\n"
    }
   }
  },
  {
   "cell_type": "code",
   "execution_count": null,
   "outputs": [],
   "source": [
    "ALL = pd.read_csv(sp / 'ALL_0.7_metadata.csv')"
   ],
   "metadata": {
    "collapsed": false,
    "pycharm": {
     "name": "#%%\n"
    }
   }
  },
  {
   "cell_type": "code",
   "execution_count": null,
   "outputs": [],
   "source": [
    "def get_validation_set(metadata):\n",
    "    le = LabelEncoder()\n",
    "    y = le.fit_transform(metadata.label)\n",
    "    test = metadata[metadata.fold == 0]\n",
    "    y = y[test.index.values]\n",
    "    val_part, test_part = train_test_split(test, stratify=y, test_size=0.5)\n",
    "    metadata.loc[val_part.index, 'fold'] = -1\n",
    "    return metadata"
   ],
   "metadata": {
    "collapsed": false,
    "pycharm": {
     "name": "#%%\n"
    }
   }
  },
  {
   "cell_type": "code",
   "execution_count": null,
   "outputs": [],
   "source": [
    "ALL"
   ],
   "metadata": {
    "collapsed": false,
    "pycharm": {
     "name": "#%%\n"
    }
   }
  },
  {
   "cell_type": "code",
   "execution_count": null,
   "outputs": [],
   "source": [
    "ALL.to_csv(sp / 'ALL_0.7_metadata.csv', index=False)"
   ],
   "metadata": {
    "collapsed": false,
    "pycharm": {
     "name": "#%%\n"
    }
   }
  },
  {
   "cell_type": "code",
   "execution_count": null,
   "outputs": [],
   "source": [
    "features, features_train, features_test, metadata = load_feature_sets(sp / 'ALL_0.7_metadata.csv', sp / 'ALL_0.7_metadata.csv')"
   ],
   "metadata": {
    "collapsed": false,
    "pycharm": {
     "name": "#%%\n"
    }
   }
  },
  {
   "cell_type": "code",
   "execution_count": null,
   "outputs": [],
   "source": [
    "for a in sp.glob(\"*.csv\"):\n",
    "    meta = pd.read_csv(a)\n",
    "    meta = get_validation_set(meta)\n",
    "    meta.to_csv(a, index=False)"
   ],
   "metadata": {
    "collapsed": false,
    "pycharm": {
     "name": "#%%\n"
    }
   }
  },
  {
   "cell_type": "code",
   "execution_count": 123,
   "outputs": [],
   "source": [
    "metadata_names = ['ALL_0.7_metadata.csv', 'COVID_VS_HEALTHY_0.7_metadata.csv', 'SICK_0.7_metadata.csv', 'SICK_VS_HEALTHY_0.7_metadata.csv']"
   ],
   "metadata": {
    "collapsed": false,
    "pycharm": {
     "name": "#%%\n"
    }
   }
  },
  {
   "cell_type": "code",
   "execution_count": 124,
   "outputs": [],
   "source": [
    "match_dict = {\n",
    "    1 : '1',\n",
    "    2 : '2',\n",
    "    3 : '3',\n",
    "    4 : '4',\n",
    "    5 : '5',\n",
    "    0 : 'test',\n",
    "    -1 : 'validation'\n",
    "}"
   ],
   "metadata": {
    "collapsed": false,
    "pycharm": {
     "name": "#%%\n"
    }
   }
  },
  {
   "cell_type": "code",
   "execution_count": 127,
   "outputs": [],
   "source": [
    "for path in metadata_names:\n",
    "    a = pd.read_csv(sp / path)\n",
    "    value_counts = a.groupby('fold').label.value_counts()\n",
    "    value_counts = pd.DataFrame(value_counts)\n",
    "    value_counts.columns = ['count']\n",
    "    value_counts = value_counts.reset_index()\n",
    "    value_counts['fold'] = value_counts['fold'].apply(lambda x : match_dict[x])\n",
    "    pivot = pd.pivot_table(data=value_counts, values = 'count', index = 'fold', columns = 'label')\n",
    "    pivot.to_csv(sp / '../subdatasets_distributions' / path)"
   ],
   "metadata": {
    "collapsed": false,
    "pycharm": {
     "name": "#%%\n"
    }
   }
  },
  {
   "cell_type": "code",
   "execution_count": 126,
   "outputs": [
    {
     "data": {
      "text/plain": "label       COVID  Lung_Opacity  Normal  Viral Pneumonia\nfold                                                    \n1             506           842    1427              188\n2             506           842    1427              188\n3             506           841    1427              189\n4             506           841    1427              189\n5             506           842    1426              188\ntest          543           902    1529              201\nvalidation    542           902    1528              202",
      "text/html": "<div>\n<style scoped>\n    .dataframe tbody tr th:only-of-type {\n        vertical-align: middle;\n    }\n\n    .dataframe tbody tr th {\n        vertical-align: top;\n    }\n\n    .dataframe thead th {\n        text-align: right;\n    }\n</style>\n<table border=\"1\" class=\"dataframe\">\n  <thead>\n    <tr style=\"text-align: right;\">\n      <th>label</th>\n      <th>COVID</th>\n      <th>Lung_Opacity</th>\n      <th>Normal</th>\n      <th>Viral Pneumonia</th>\n    </tr>\n    <tr>\n      <th>fold</th>\n      <th></th>\n      <th></th>\n      <th></th>\n      <th></th>\n    </tr>\n  </thead>\n  <tbody>\n    <tr>\n      <th>1</th>\n      <td>506</td>\n      <td>842</td>\n      <td>1427</td>\n      <td>188</td>\n    </tr>\n    <tr>\n      <th>2</th>\n      <td>506</td>\n      <td>842</td>\n      <td>1427</td>\n      <td>188</td>\n    </tr>\n    <tr>\n      <th>3</th>\n      <td>506</td>\n      <td>841</td>\n      <td>1427</td>\n      <td>189</td>\n    </tr>\n    <tr>\n      <th>4</th>\n      <td>506</td>\n      <td>841</td>\n      <td>1427</td>\n      <td>189</td>\n    </tr>\n    <tr>\n      <th>5</th>\n      <td>506</td>\n      <td>842</td>\n      <td>1426</td>\n      <td>188</td>\n    </tr>\n    <tr>\n      <th>test</th>\n      <td>543</td>\n      <td>902</td>\n      <td>1529</td>\n      <td>201</td>\n    </tr>\n    <tr>\n      <th>validation</th>\n      <td>542</td>\n      <td>902</td>\n      <td>1528</td>\n      <td>202</td>\n    </tr>\n  </tbody>\n</table>\n</div>"
     },
     "execution_count": 126,
     "metadata": {},
     "output_type": "execute_result"
    }
   ],
   "source": [
    "pivot"
   ],
   "metadata": {
    "collapsed": false,
    "pycharm": {
     "name": "#%%\n"
    }
   }
  }
 ],
 "metadata": {
  "kernelspec": {
   "display_name": "Python 3",
   "language": "python",
   "name": "python3"
  },
  "language_info": {
   "codemirror_mode": {
    "name": "ipython",
    "version": 2
   },
   "file_extension": ".py",
   "mimetype": "text/x-python",
   "name": "python",
   "nbconvert_exporter": "python",
   "pygments_lexer": "ipython2",
   "version": "2.7.6"
  }
 },
 "nbformat": 4,
 "nbformat_minor": 0
}